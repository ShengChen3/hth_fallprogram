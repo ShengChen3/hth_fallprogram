{
 "cells": [
  {
   "cell_type": "code",
   "execution_count": null,
   "metadata": {},
   "outputs": [],
   "source": []
  }
 ],
 "metadata": {
  "kernelspec": {
   "display_name": "Python 3.10.7 64-bit",
   "language": "python",
   "name": "python3"
  },
  "language_info": {
   "name": "python",
   "version": "3.10.7"
  },
  "orig_nbformat": 4,
  "vscode": {
   "interpreter": {
    "hash": "da8cacad6526fc28353ce178b1751bab4988ed53c639509340248c4f391b6022"
   }
  }
 },
 "nbformat": 4,
 "nbformat_minor": 2
}
